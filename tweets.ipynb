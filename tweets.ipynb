{
 "cells": [
  {
   "cell_type": "code",
   "execution_count": 1,
   "metadata": {},
   "outputs": [],
   "source": [
    "import numpy as np\n",
    "import pandas as pd\n",
    "import tweepy as tw\n",
    "import json\n",
    "\n",
    "_keys_file = open('tokens.json')\n",
    "keys = json.load(_keys_file)"
   ]
  },
  {
   "cell_type": "markdown",
   "metadata": {},
   "source": [
    "### Authenticate"
   ]
  },
  {
   "cell_type": "code",
   "execution_count": 3,
   "metadata": {},
   "outputs": [],
   "source": [
    "auth = tw.OAuthHandler(keys['api_key'], keys['api_secret'])\n",
    "api = tw.API(auth, wait_on_rate_limit=True)"
   ]
  },
  {
   "cell_type": "markdown",
   "metadata": {},
   "source": [
    "### Get Tweets"
   ]
  },
  {
   "cell_type": "code",
   "execution_count": 4,
   "metadata": {},
   "outputs": [],
   "source": [
    "search_words = \"#covid19 -filter:retweets\"\n",
    "date_since = \"2022-01-01\"\n",
    "\n",
    "# Collect tweets\n",
    "tweetsResults = tw.Cursor(\n",
    "  api.search_tweets,\n",
    "  q=search_words,\n",
    "  lang=\"es\",\n",
    ").items(1500)"
   ]
  },
  {
   "cell_type": "code",
   "execution_count": 5,
   "metadata": {},
   "outputs": [
    {
     "name": "stdout",
     "output_type": "stream",
     "text": [
      "Total Tweets fetched: 1500\n"
     ]
    }
   ],
   "source": [
    "tweets = []\n",
    "for tweet in tweetsResults:\n",
    "  tweets.append(tweet)\n",
    "print(\"Total Tweets fetched:\", len(tweets))"
   ]
  },
  {
   "cell_type": "code",
   "execution_count": 6,
   "metadata": {},
   "outputs": [
    {
     "name": "stderr",
     "output_type": "stream",
     "text": [
      "Rate limit reached. Sleeping for: 673\n"
     ]
    }
   ],
   "source": [
    "# Init dataframe\n",
    "data = []\n",
    "columns = ['userName', 'userLocation', 'userDescription', 'isUserVerified', 'date', 'text', 'source']\n",
    "\n",
    "for tweet in tweets:\n",
    "  try:text = api.get_status(id=tweet.id, tweet_mode='extended').full_text\n",
    "  except: pass\n",
    "\n",
    "  # Adding new data\n",
    "  data.append([\n",
    "    tweet.user.name, \n",
    "    tweet.user.location,\n",
    "    tweet.user.description,\n",
    "    tweet.user.verified,\n",
    "    tweet.created_at,\n",
    "    text, \n",
    "    tweet.source\n",
    "  ])\n",
    "\n",
    "# show the dataframe\n",
    "df = pd.DataFrame(columns=columns, data=data)"
   ]
  },
  {
   "cell_type": "code",
   "execution_count": 7,
   "metadata": {},
   "outputs": [
    {
     "data": {
      "text/html": [
       "<div>\n",
       "<style scoped>\n",
       "    .dataframe tbody tr th:only-of-type {\n",
       "        vertical-align: middle;\n",
       "    }\n",
       "\n",
       "    .dataframe tbody tr th {\n",
       "        vertical-align: top;\n",
       "    }\n",
       "\n",
       "    .dataframe thead th {\n",
       "        text-align: right;\n",
       "    }\n",
       "</style>\n",
       "<table border=\"1\" class=\"dataframe\">\n",
       "  <thead>\n",
       "    <tr style=\"text-align: right;\">\n",
       "      <th></th>\n",
       "      <th>userName</th>\n",
       "      <th>userLocation</th>\n",
       "      <th>userDescription</th>\n",
       "      <th>isUserVerified</th>\n",
       "      <th>date</th>\n",
       "      <th>text</th>\n",
       "      <th>source</th>\n",
       "    </tr>\n",
       "  </thead>\n",
       "  <tbody>\n",
       "    <tr>\n",
       "      <th>0</th>\n",
       "      <td>OaxacaesNoticia</td>\n",
       "      <td></td>\n",
       "      <td>Diario de información general. Reporteros de l...</td>\n",
       "      <td>False</td>\n",
       "      <td>2022-09-10 02:14:04+00:00</td>\n",
       "      <td>Informa la @SSalud_mx que existen 7,056,164 ca...</td>\n",
       "      <td>Twitter for iPhone</td>\n",
       "    </tr>\n",
       "    <tr>\n",
       "      <th>1</th>\n",
       "      <td>@ojopolitico</td>\n",
       "      <td></td>\n",
       "      <td>Periodista en activo desde 1978</td>\n",
       "      <td>False</td>\n",
       "      <td>2022-09-10 02:13:59+00:00</td>\n",
       "      <td>Informa la @SSalud_mx que existen 7,056,164 ca...</td>\n",
       "      <td>Twitter for iPhone</td>\n",
       "    </tr>\n",
       "    <tr>\n",
       "      <th>2</th>\n",
       "      <td>Fernando Cruz López</td>\n",
       "      <td>Oaxaca de Juárez, Oaxaca</td>\n",
       "      <td>Periodista activo desde 1978. Director General...</td>\n",
       "      <td>False</td>\n",
       "      <td>2022-09-10 02:13:52+00:00</td>\n",
       "      <td>Informa la @SSalud_mx que existen 7,056,164 ca...</td>\n",
       "      <td>Twitter for iPhone</td>\n",
       "    </tr>\n",
       "    <tr>\n",
       "      <th>3</th>\n",
       "      <td>Juan Carlos Mori</td>\n",
       "      <td>Perú</td>\n",
       "      <td>Medico Anestesiólogo, Congresista de la Repúbl...</td>\n",
       "      <td>False</td>\n",
       "      <td>2022-09-10 02:11:51+00:00</td>\n",
       "      <td>Hoy en la Comisión #COVID19, el viceministro d...</td>\n",
       "      <td>Twitter for Android</td>\n",
       "    </tr>\n",
       "    <tr>\n",
       "      <th>4</th>\n",
       "      <td>Secretaría de Salud Jalisco</td>\n",
       "      <td>Guadalajara, Jalisco</td>\n",
       "      <td>Nos encargamos de la salud en Jalisco, coordin...</td>\n",
       "      <td>False</td>\n",
       "      <td>2022-09-10 02:09:14+00:00</td>\n",
       "      <td>#CorteDiario \\nEste es el panorama de #COVID19...</td>\n",
       "      <td>Twitter for Android</td>\n",
       "    </tr>\n",
       "  </tbody>\n",
       "</table>\n",
       "</div>"
      ],
      "text/plain": [
       "                      userName              userLocation  \\\n",
       "0              OaxacaesNoticia                             \n",
       "1                 @ojopolitico                             \n",
       "2          Fernando Cruz López  Oaxaca de Juárez, Oaxaca   \n",
       "3             Juan Carlos Mori                      Perú   \n",
       "4  Secretaría de Salud Jalisco      Guadalajara, Jalisco   \n",
       "\n",
       "                                     userDescription  isUserVerified  \\\n",
       "0  Diario de información general. Reporteros de l...           False   \n",
       "1                    Periodista en activo desde 1978           False   \n",
       "2  Periodista activo desde 1978. Director General...           False   \n",
       "3  Medico Anestesiólogo, Congresista de la Repúbl...           False   \n",
       "4  Nos encargamos de la salud en Jalisco, coordin...           False   \n",
       "\n",
       "                       date  \\\n",
       "0 2022-09-10 02:14:04+00:00   \n",
       "1 2022-09-10 02:13:59+00:00   \n",
       "2 2022-09-10 02:13:52+00:00   \n",
       "3 2022-09-10 02:11:51+00:00   \n",
       "4 2022-09-10 02:09:14+00:00   \n",
       "\n",
       "                                                text               source  \n",
       "0  Informa la @SSalud_mx que existen 7,056,164 ca...   Twitter for iPhone  \n",
       "1  Informa la @SSalud_mx que existen 7,056,164 ca...   Twitter for iPhone  \n",
       "2  Informa la @SSalud_mx que existen 7,056,164 ca...   Twitter for iPhone  \n",
       "3  Hoy en la Comisión #COVID19, el viceministro d...  Twitter for Android  \n",
       "4  #CorteDiario \\nEste es el panorama de #COVID19...  Twitter for Android  "
      ]
     },
     "execution_count": 7,
     "metadata": {},
     "output_type": "execute_result"
    }
   ],
   "source": [
    "df.head()"
   ]
  },
  {
   "cell_type": "code",
   "execution_count": 9,
   "metadata": {},
   "outputs": [],
   "source": [
    "df.to_csv('train.csv', index=False, encoding='utf-8')"
   ]
  }
 ],
 "metadata": {
  "kernelspec": {
   "display_name": "Python 3.10.4 64-bit",
   "language": "python",
   "name": "python3"
  },
  "language_info": {
   "codemirror_mode": {
    "name": "ipython",
    "version": 3
   },
   "file_extension": ".py",
   "mimetype": "text/x-python",
   "name": "python",
   "nbconvert_exporter": "python",
   "pygments_lexer": "ipython3",
   "version": "3.10.4"
  },
  "orig_nbformat": 4,
  "vscode": {
   "interpreter": {
    "hash": "0a8e74bc410295dd7b3e2a92a04bda485b935e7c35103812674b9cdd1b25ea1a"
   }
  }
 },
 "nbformat": 4,
 "nbformat_minor": 2
}
