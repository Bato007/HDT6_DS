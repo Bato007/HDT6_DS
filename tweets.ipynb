{
 "cells": [
  {
   "cell_type": "code",
   "execution_count": 1,
   "metadata": {},
   "outputs": [],
   "source": [
    "import numpy as np\n",
    "import pandas as pd\n",
    "import tweepy as tw\n",
    "import json\n",
    "\n",
    "_keys_file = open('tokens.json')\n",
    "keys = json.load(_keys_file)"
   ]
  },
  {
   "cell_type": "markdown",
   "metadata": {},
   "source": [
    "### Authenticate"
   ]
  },
  {
   "cell_type": "code",
   "execution_count": 2,
   "metadata": {},
   "outputs": [],
   "source": [
    "auth = tw.OAuthHandler(keys['api_key'], keys['api_secret'])\n",
    "api = tw.API(auth, wait_on_rate_limit=True)"
   ]
  },
  {
   "cell_type": "markdown",
   "metadata": {},
   "source": [
    "### Get Tweets"
   ]
  },
  {
   "cell_type": "code",
   "execution_count": 9,
   "metadata": {},
   "outputs": [],
   "source": [
    "search_words = \"@Tigo_GT -filter:retweets\"\n",
    "date_since = \"2022-01-01\"\n",
    "\n",
    "# Collect tweets\n",
    "tweetsResults = tw.Cursor(\n",
    "  api.search_tweets,\n",
    "  q=search_words,\n",
    "  lang=\"es\",\n",
    ").items(1500)"
   ]
  },
  {
   "cell_type": "code",
   "execution_count": 10,
   "metadata": {},
   "outputs": [
    {
     "name": "stdout",
     "output_type": "stream",
     "text": [
      "Total Tweets fetched: 1500\n"
     ]
    }
   ],
   "source": [
    "tweets = []\n",
    "for tweet in tweetsResults: \n",
    "  tweets.append(tweet)\n",
    "print(\"Total Tweets fetched:\", len(tweets))"
   ]
  },
  {
   "cell_type": "code",
   "execution_count": 11,
   "metadata": {},
   "outputs": [
    {
     "name": "stderr",
     "output_type": "stream",
     "text": [
      "Rate limit reached. Sleeping for: 701\n"
     ]
    }
   ],
   "source": [
    "# Init dataframe\n",
    "data = []\n",
    "columns = ['userName', 'userLocation', 'userDescription', 'isUserVerified', 'date', 'text', 'source']\n",
    "\n",
    "for tweet in tweets:\n",
    "  try:text = api.get_status(id=tweet.id, tweet_mode='extended').full_text\n",
    "  except: pass\n",
    "\n",
    "  # Adding new data\n",
    "  data.append([\n",
    "    tweet.user.name, \n",
    "    tweet.user.location,\n",
    "    tweet.user.description,\n",
    "    tweet.user.verified,\n",
    "    tweet.created_at,\n",
    "    text, \n",
    "    tweet.source\n",
    "  ])\n",
    "\n",
    "# show the dataframe\n",
    "df = pd.DataFrame(columns=columns, data=data)"
   ]
  },
  {
   "cell_type": "code",
   "execution_count": 12,
   "metadata": {},
   "outputs": [
    {
     "data": {
      "text/html": [
       "<div>\n",
       "<style scoped>\n",
       "    .dataframe tbody tr th:only-of-type {\n",
       "        vertical-align: middle;\n",
       "    }\n",
       "\n",
       "    .dataframe tbody tr th {\n",
       "        vertical-align: top;\n",
       "    }\n",
       "\n",
       "    .dataframe thead th {\n",
       "        text-align: right;\n",
       "    }\n",
       "</style>\n",
       "<table border=\"1\" class=\"dataframe\">\n",
       "  <thead>\n",
       "    <tr style=\"text-align: right;\">\n",
       "      <th></th>\n",
       "      <th>userName</th>\n",
       "      <th>userLocation</th>\n",
       "      <th>userDescription</th>\n",
       "      <th>isUserVerified</th>\n",
       "      <th>date</th>\n",
       "      <th>text</th>\n",
       "      <th>source</th>\n",
       "    </tr>\n",
       "  </thead>\n",
       "  <tbody>\n",
       "    <tr>\n",
       "      <th>0</th>\n",
       "      <td>Lourdes Benavente</td>\n",
       "      <td>Latitud  flor y  granizo</td>\n",
       "      <td>Ingeniera Ambiental de profesión y ambientalis...</td>\n",
       "      <td>False</td>\n",
       "      <td>2022-09-11 17:17:22+00:00</td>\n",
       "      <td>Aparece el 5G y la red de tigo ya no sirve par...</td>\n",
       "      <td>Twitter for Android</td>\n",
       "    </tr>\n",
       "    <tr>\n",
       "      <th>1</th>\n",
       "      <td>Mariela</td>\n",
       "      <td>Guatemala</td>\n",
       "      <td>Una bad bitch, girl de lo' 90</td>\n",
       "      <td>False</td>\n",
       "      <td>2022-09-11 17:05:36+00:00</td>\n",
       "      <td>@Tigo_GT Entregarte tanto fue mi debilidad\\nY ...</td>\n",
       "      <td>Twitter for iPhone</td>\n",
       "    </tr>\n",
       "    <tr>\n",
       "      <th>2</th>\n",
       "      <td>Mariela</td>\n",
       "      <td>Guatemala</td>\n",
       "      <td>Una bad bitch, girl de lo' 90</td>\n",
       "      <td>False</td>\n",
       "      <td>2022-09-11 17:05:24+00:00</td>\n",
       "      <td>@Tigo_GT Entregarte tanto fue mi debilidad\\nY ...</td>\n",
       "      <td>Twitter for iPhone</td>\n",
       "    </tr>\n",
       "    <tr>\n",
       "      <th>3</th>\n",
       "      <td>Mariela</td>\n",
       "      <td>Guatemala</td>\n",
       "      <td>Una bad bitch, girl de lo' 90</td>\n",
       "      <td>False</td>\n",
       "      <td>2022-09-11 17:05:00+00:00</td>\n",
       "      <td>@Tigo_GT Entregarte tanto fue mi debilidad\\nY ...</td>\n",
       "      <td>Twitter for iPhone</td>\n",
       "    </tr>\n",
       "    <tr>\n",
       "      <th>4</th>\n",
       "      <td>Griffith91</td>\n",
       "      <td></td>\n",
       "      <td>Blueworld</td>\n",
       "      <td>False</td>\n",
       "      <td>2022-09-11 16:30:06+00:00</td>\n",
       "      <td>@Tigo_GT 👑👑👑👑Super Junior 👑👑👑👑🇬🇹🇬🇹🇬🇹🇬🇹💙💙💙💙💙💙💙💙...</td>\n",
       "      <td>Twitter for Android</td>\n",
       "    </tr>\n",
       "  </tbody>\n",
       "</table>\n",
       "</div>"
      ],
      "text/plain": [
       "            userName               userLocation  \\\n",
       "0  Lourdes Benavente  Latitud  flor y  granizo    \n",
       "1            Mariela                  Guatemala   \n",
       "2            Mariela                  Guatemala   \n",
       "3            Mariela                  Guatemala   \n",
       "4         Griffith91                              \n",
       "\n",
       "                                     userDescription  isUserVerified  \\\n",
       "0  Ingeniera Ambiental de profesión y ambientalis...           False   \n",
       "1                      Una bad bitch, girl de lo' 90           False   \n",
       "2                      Una bad bitch, girl de lo' 90           False   \n",
       "3                      Una bad bitch, girl de lo' 90           False   \n",
       "4                                          Blueworld           False   \n",
       "\n",
       "                       date  \\\n",
       "0 2022-09-11 17:17:22+00:00   \n",
       "1 2022-09-11 17:05:36+00:00   \n",
       "2 2022-09-11 17:05:24+00:00   \n",
       "3 2022-09-11 17:05:00+00:00   \n",
       "4 2022-09-11 16:30:06+00:00   \n",
       "\n",
       "                                                text               source  \n",
       "0  Aparece el 5G y la red de tigo ya no sirve par...  Twitter for Android  \n",
       "1  @Tigo_GT Entregarte tanto fue mi debilidad\\nY ...   Twitter for iPhone  \n",
       "2  @Tigo_GT Entregarte tanto fue mi debilidad\\nY ...   Twitter for iPhone  \n",
       "3  @Tigo_GT Entregarte tanto fue mi debilidad\\nY ...   Twitter for iPhone  \n",
       "4  @Tigo_GT 👑👑👑👑Super Junior 👑👑👑👑🇬🇹🇬🇹🇬🇹🇬🇹💙💙💙💙💙💙💙💙...  Twitter for Android  "
      ]
     },
     "execution_count": 12,
     "metadata": {},
     "output_type": "execute_result"
    }
   ],
   "source": [
    "df.head()"
   ]
  },
  {
   "cell_type": "code",
   "execution_count": 13,
   "metadata": {},
   "outputs": [],
   "source": [
    "df.to_csv('train.csv', index=False, encoding='utf-8')"
   ]
  }
 ],
 "metadata": {
  "kernelspec": {
   "display_name": "Python 3.10.4 64-bit",
   "language": "python",
   "name": "python3"
  },
  "language_info": {
   "codemirror_mode": {
    "name": "ipython",
    "version": 3
   },
   "file_extension": ".py",
   "mimetype": "text/x-python",
   "name": "python",
   "nbconvert_exporter": "python",
   "pygments_lexer": "ipython3",
   "version": "3.10.4"
  },
  "orig_nbformat": 4,
  "vscode": {
   "interpreter": {
    "hash": "0a8e74bc410295dd7b3e2a92a04bda485b935e7c35103812674b9cdd1b25ea1a"
   }
  }
 },
 "nbformat": 4,
 "nbformat_minor": 2
}
