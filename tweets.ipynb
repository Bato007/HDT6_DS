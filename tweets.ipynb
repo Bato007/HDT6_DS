{
 "cells": [
  {
   "cell_type": "code",
   "execution_count": 1,
   "metadata": {},
   "outputs": [],
   "source": [
    "import numpy as np\n",
    "import pandas as pd\n",
    "import tweepy as tw\n",
    "import json\n",
    "\n",
    "_keys_file = open('tokens.json')\n",
    "keys = json.load(_keys_file)"
   ]
  },
  {
   "cell_type": "markdown",
   "metadata": {},
   "source": [
    "### Authenticate"
   ]
  },
  {
   "cell_type": "code",
   "execution_count": 2,
   "metadata": {},
   "outputs": [],
   "source": [
    "auth = tw.OAuthHandler(keys['api_key'], keys['api_secret'])\n",
    "api = tw.API(auth, wait_on_rate_limit=True)"
   ]
  },
  {
   "cell_type": "markdown",
   "metadata": {},
   "source": [
    "### Get Tweets"
   ]
  },
  {
   "cell_type": "code",
   "execution_count": 3,
   "metadata": {},
   "outputs": [],
   "source": [
    "search_words = \"@Apple -filter:retweets\"\n",
    "date_since = \"2022-01-01\"\n",
    "\n",
    "# Collect tweets\n",
    "tweetsResults = tw.Cursor(\n",
    "  api.search_tweets,\n",
    "  q=search_words,\n",
    "  lang=\"en\",\n",
    ").items(1500)"
   ]
  },
  {
   "cell_type": "code",
   "execution_count": 4,
   "metadata": {},
   "outputs": [
    {
     "name": "stdout",
     "output_type": "stream",
     "text": [
      "Total Tweets fetched: 1500\n"
     ]
    }
   ],
   "source": [
    "tweets = []\n",
    "for tweet in tweetsResults: \n",
    "  tweets.append(tweet)\n",
    "print(\"Total Tweets fetched:\", len(tweets))"
   ]
  },
  {
   "cell_type": "code",
   "execution_count": 5,
   "metadata": {},
   "outputs": [
    {
     "name": "stderr",
     "output_type": "stream",
     "text": [
      "Rate limit reached. Sleeping for: 625\n",
      "Rate limit reached. Sleeping for: 707\n"
     ]
    }
   ],
   "source": [
    "# Init dataframe\n",
    "data = []\n",
    "columns = ['userName', 'userLocation', 'userDescription', 'isUserVerified', 'date', 'text', 'source']\n",
    "\n",
    "for tweet in tweets:\n",
    "  try:text = api.get_status(id=tweet.id, tweet_mode='extended').full_text\n",
    "  except: pass\n",
    "\n",
    "  # Adding new data\n",
    "  data.append([\n",
    "    tweet.user.name, \n",
    "    tweet.user.location,\n",
    "    tweet.user.description,\n",
    "    tweet.user.verified,\n",
    "    tweet.created_at,\n",
    "    text, \n",
    "    tweet.source\n",
    "  ])\n",
    "\n",
    "# show the dataframe\n",
    "df = pd.DataFrame(columns=columns, data=data)"
   ]
  },
  {
   "cell_type": "code",
   "execution_count": 6,
   "metadata": {},
   "outputs": [
    {
     "data": {
      "text/html": [
       "<div>\n",
       "<style scoped>\n",
       "    .dataframe tbody tr th:only-of-type {\n",
       "        vertical-align: middle;\n",
       "    }\n",
       "\n",
       "    .dataframe tbody tr th {\n",
       "        vertical-align: top;\n",
       "    }\n",
       "\n",
       "    .dataframe thead th {\n",
       "        text-align: right;\n",
       "    }\n",
       "</style>\n",
       "<table border=\"1\" class=\"dataframe\">\n",
       "  <thead>\n",
       "    <tr style=\"text-align: right;\">\n",
       "      <th></th>\n",
       "      <th>userName</th>\n",
       "      <th>userLocation</th>\n",
       "      <th>userDescription</th>\n",
       "      <th>isUserVerified</th>\n",
       "      <th>date</th>\n",
       "      <th>text</th>\n",
       "      <th>source</th>\n",
       "    </tr>\n",
       "  </thead>\n",
       "  <tbody>\n",
       "    <tr>\n",
       "      <th>0</th>\n",
       "      <td>brian parchamento</td>\n",
       "      <td></td>\n",
       "      <td>YouTube Profiles: #brianparchamento #b1cyberne...</td>\n",
       "      <td>False</td>\n",
       "      <td>2022-09-12 01:49:03+00:00</td>\n",
       "      <td>@Apple Yes...Not \"Indeed\"...BUT OK..\"i Guess i...</td>\n",
       "      <td>Twitter Web App</td>\n",
       "    </tr>\n",
       "    <tr>\n",
       "      <th>1</th>\n",
       "      <td>Asifullah Khan</td>\n",
       "      <td>Las Vegas, NV</td>\n",
       "      <td>Like A Drug Addictive, Expensive, Complicated.</td>\n",
       "      <td>False</td>\n",
       "      <td>2022-09-12 01:48:41+00:00</td>\n",
       "      <td>@Apple I was gonna upgrade but I need the vers...</td>\n",
       "      <td>Twitter for iPhone</td>\n",
       "    </tr>\n",
       "    <tr>\n",
       "      <th>2</th>\n",
       "      <td>MW ✨</td>\n",
       "      <td>Small town Oklahoma</td>\n",
       "      <td>Aggressively unfancy, #BlackLivesMatter #GoodT...</td>\n",
       "      <td>False</td>\n",
       "      <td>2022-09-12 01:47:06+00:00</td>\n",
       "      <td>Google just dropped Trump's \"Truth Social\" ove...</td>\n",
       "      <td>Twitter for iPhone</td>\n",
       "    </tr>\n",
       "    <tr>\n",
       "      <th>3</th>\n",
       "      <td>D clax</td>\n",
       "      <td></td>\n",
       "      <td>Firefighter Emt, powerlifter, husband, dad</td>\n",
       "      <td>False</td>\n",
       "      <td>2022-09-12 01:46:33+00:00</td>\n",
       "      <td>@Apple To bad it’s 2 month back ordered. So si...</td>\n",
       "      <td>Twitter for iPhone</td>\n",
       "    </tr>\n",
       "    <tr>\n",
       "      <th>4</th>\n",
       "      <td>Rachelle Olaridge</td>\n",
       "      <td>Ohio</td>\n",
       "      <td>Teacher, Educator, Mentor, Missionary, Lady, D...</td>\n",
       "      <td>False</td>\n",
       "      <td>2022-09-12 01:46:30+00:00</td>\n",
       "      <td>@Apple Let me when the phone is no longer made...</td>\n",
       "      <td>Twitter for Android</td>\n",
       "    </tr>\n",
       "  </tbody>\n",
       "</table>\n",
       "</div>"
      ],
      "text/plain": [
       "            userName          userLocation  \\\n",
       "0  brian parchamento                         \n",
       "1     Asifullah Khan         Las Vegas, NV   \n",
       "2               MW ✨  Small town Oklahoma    \n",
       "3             D clax                         \n",
       "4  Rachelle Olaridge                  Ohio   \n",
       "\n",
       "                                     userDescription  isUserVerified  \\\n",
       "0  YouTube Profiles: #brianparchamento #b1cyberne...           False   \n",
       "1     Like A Drug Addictive, Expensive, Complicated.           False   \n",
       "2  Aggressively unfancy, #BlackLivesMatter #GoodT...           False   \n",
       "3         Firefighter Emt, powerlifter, husband, dad           False   \n",
       "4  Teacher, Educator, Mentor, Missionary, Lady, D...           False   \n",
       "\n",
       "                       date  \\\n",
       "0 2022-09-12 01:49:03+00:00   \n",
       "1 2022-09-12 01:48:41+00:00   \n",
       "2 2022-09-12 01:47:06+00:00   \n",
       "3 2022-09-12 01:46:33+00:00   \n",
       "4 2022-09-12 01:46:30+00:00   \n",
       "\n",
       "                                                text               source  \n",
       "0  @Apple Yes...Not \"Indeed\"...BUT OK..\"i Guess i...      Twitter Web App  \n",
       "1  @Apple I was gonna upgrade but I need the vers...   Twitter for iPhone  \n",
       "2  Google just dropped Trump's \"Truth Social\" ove...   Twitter for iPhone  \n",
       "3  @Apple To bad it’s 2 month back ordered. So si...   Twitter for iPhone  \n",
       "4  @Apple Let me when the phone is no longer made...  Twitter for Android  "
      ]
     },
     "execution_count": 6,
     "metadata": {},
     "output_type": "execute_result"
    }
   ],
   "source": [
    "df.head()"
   ]
  },
  {
   "cell_type": "code",
   "execution_count": 7,
   "metadata": {},
   "outputs": [],
   "source": [
    "df.to_csv('train.csv', index=False, encoding='utf-8')"
   ]
  }
 ],
 "metadata": {
  "kernelspec": {
   "display_name": "Python 3.10.4 64-bit",
   "language": "python",
   "name": "python3"
  },
  "language_info": {
   "codemirror_mode": {
    "name": "ipython",
    "version": 3
   },
   "file_extension": ".py",
   "mimetype": "text/x-python",
   "name": "python",
   "nbconvert_exporter": "python",
   "pygments_lexer": "ipython3",
   "version": "3.10.4"
  },
  "orig_nbformat": 4,
  "vscode": {
   "interpreter": {
    "hash": "0a8e74bc410295dd7b3e2a92a04bda485b935e7c35103812674b9cdd1b25ea1a"
   }
  }
 },
 "nbformat": 4,
 "nbformat_minor": 2
}
